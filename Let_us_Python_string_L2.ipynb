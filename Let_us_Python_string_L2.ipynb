{
 "cells": [
  {
   "cell_type": "code",
   "execution_count": null,
   "id": "a8c36210",
   "metadata": {},
   "outputs": [],
   "source": [
    "#Exercise 1"
   ]
  },
  {
   "cell_type": "code",
   "execution_count": 1,
   "id": "4df4eaff",
   "metadata": {},
   "outputs": [],
   "source": [
    "word_str = 'Shenanigan'\n",
    "# S h\n",
    "# a n\n",
    "# enanigan\n",
    "# Shenan\n",
    "# Shenan\n",
    "# Shenan\n",
    "# Shenan\n",
    "# Shenanigan\n",
    "# Seaia\n",
    "# Snin\n",
    "# Saa\n",
    "# ShenaniganType\n",
    "# ShenanWabbite"
   ]
  },
  {
   "cell_type": "code",
   "execution_count": 26,
   "id": "01134dab",
   "metadata": {},
   "outputs": [
    {
     "name": "stdout",
     "output_type": "stream",
     "text": [
      "Sh an enanigan Shenan Shenan Shenan Shenanigan Seaia Snin Saa ShenaniganType ShenanWabbite\n"
     ]
    }
   ],
   "source": [
    "print(word_str[0:2],word_str[-2:],word_str[2:],word_str[:-4],word_str[:6],word_str[0:6],word_str[::],word_str[::2],word_str[::3],\n",
    "     word_str[::4], word_str+(\"Type\"), word_str[:6]+(\"Wabbite\"))"
   ]
  },
  {
   "cell_type": "code",
   "execution_count": 27,
   "id": "a71e455f",
   "metadata": {},
   "outputs": [],
   "source": [
    "#Exercise 2 "
   ]
  },
  {
   "cell_type": "code",
   "execution_count": 28,
   "id": "5a3f43fc",
   "metadata": {},
   "outputs": [],
   "source": [
    "Sentence = 'Visit ykanetkar.com for online courses in programming'"
   ]
  },
  {
   "cell_type": "code",
   "execution_count": 30,
   "id": "1a70fa48",
   "metadata": {},
   "outputs": [
    {
     "data": {
      "text/plain": [
       "'Visit Ykanetkar.Com For Online Courses In Programming'"
      ]
     },
     "execution_count": 30,
     "metadata": {},
     "output_type": "execute_result"
    }
   ],
   "source": [
    "Sentence.title()"
   ]
  },
  {
   "cell_type": "code",
   "execution_count": 31,
   "id": "684d1bf1",
   "metadata": {},
   "outputs": [],
   "source": [
    "#Exercise 3"
   ]
  },
  {
   "cell_type": "code",
   "execution_count": 35,
   "id": "024760ad",
   "metadata": {},
   "outputs": [],
   "source": [
    "Sentence_1 = 'Light travels faster than sound. This is why some people appear bright until you hear them speak.'\n",
    "x = Sentence_1.replace('Light','LIGHT')\n",
    "final_sen=x.replace('sound','SOUND')"
   ]
  },
  {
   "cell_type": "code",
   "execution_count": 52,
   "id": "2912d220",
   "metadata": {},
   "outputs": [
    {
     "data": {
      "text/plain": [
       "'Light travels faster than sound. This is why some people appear bright until you hear them speak.'"
      ]
     },
     "execution_count": 52,
     "metadata": {},
     "output_type": "execute_result"
    }
   ],
   "source": [
    "Sentence_1"
   ]
  },
  {
   "cell_type": "code",
   "execution_count": 37,
   "id": "ca1b32bc",
   "metadata": {},
   "outputs": [],
   "source": [
    "#Exercise 4"
   ]
  },
  {
   "cell_type": "code",
   "execution_count": 38,
   "id": "d286a19c",
   "metadata": {},
   "outputs": [
    {
     "data": {
      "text/plain": [
       "['The',\n",
       " 'difference',\n",
       " 'between',\n",
       " 'stupidity',\n",
       " 'and',\n",
       " 'genius',\n",
       " 'is',\n",
       " 'that',\n",
       " 'genius',\n",
       " 'has',\n",
       " 'its',\n",
       " 'limits']"
      ]
     },
     "execution_count": 38,
     "metadata": {},
     "output_type": "execute_result"
    }
   ],
   "source": [
    "Str_1 = 'The difference between stupidity and genius is that genius has its limits'\n",
    "Str_1.split()"
   ]
  },
  {
   "cell_type": "code",
   "execution_count": 39,
   "id": "f458b857",
   "metadata": {},
   "outputs": [],
   "source": [
    "#Exercise 5"
   ]
  },
  {
   "cell_type": "code",
   "execution_count": 44,
   "id": "b3a8b05b",
   "metadata": {},
   "outputs": [],
   "source": [
    "Ex5 =  '''He said, \"Let Us Python\"'''\n",
    "Ex5_0 =  'He said, \"Let Us Python\"'"
   ]
  },
  {
   "cell_type": "code",
   "execution_count": 46,
   "id": "1e70db4a",
   "metadata": {},
   "outputs": [],
   "source": [
    "#Exercise 6"
   ]
  },
  {
   "cell_type": "code",
   "execution_count": 47,
   "id": "185426ce",
   "metadata": {},
   "outputs": [
    {
     "name": "stdout",
     "output_type": "stream",
     "text": [
      "1681727918896\n"
     ]
    }
   ],
   "source": [
    "print(id('Imaginary'))"
   ]
  },
  {
   "cell_type": "code",
   "execution_count": 48,
   "id": "73273cec",
   "metadata": {},
   "outputs": [
    {
     "name": "stdout",
     "output_type": "stream",
     "text": [
      "<class 'str'>\n"
     ]
    }
   ],
   "source": [
    "print(type('Imaginary'))"
   ]
  },
  {
   "cell_type": "code",
   "execution_count": 49,
   "id": "b8bf7d7e",
   "metadata": {},
   "outputs": [],
   "source": [
    "#Exercise 7"
   ]
  },
  {
   "cell_type": "code",
   "execution_count": 50,
   "id": "95017d2e",
   "metadata": {},
   "outputs": [
    {
     "name": "stdout",
     "output_type": "stream",
     "text": [
      "['C:', 'Users', 'Kanetkar', 'Documents']\n"
     ]
    }
   ],
   "source": [
    "s3 = 'C:\\\\Users\\\\Kanetkar\\\\Documents'\n",
    "print(s3.split('\\\\'))"
   ]
  },
  {
   "cell_type": "code",
   "execution_count": 51,
   "id": "18fd0663",
   "metadata": {},
   "outputs": [
    {
     "name": "stdout",
     "output_type": "stream",
     "text": [
      "('C:', '\\\\', 'Users\\\\Kanetkar\\\\Documents')\n"
     ]
    }
   ],
   "source": [
    "print(s3.partition('\\\\'))"
   ]
  },
  {
   "cell_type": "code",
   "execution_count": 53,
   "id": "47eec4a6",
   "metadata": {},
   "outputs": [],
   "source": [
    "#Exercise 8"
   ]
  },
  {
   "cell_type": "code",
   "execution_count": 56,
   "id": "324ba0cd",
   "metadata": {},
   "outputs": [
    {
     "data": {
      "text/plain": [
       "'TraPoete'"
      ]
     },
     "execution_count": 56,
     "metadata": {},
     "output_type": "execute_result"
    }
   ],
   "source": [
    "Ex_8 = 'ThreadProperties'\n",
    "Ex_8[::2]"
   ]
  },
  {
   "cell_type": "code",
   "execution_count": 57,
   "id": "e5979761",
   "metadata": {},
   "outputs": [],
   "source": [
    "#Exercise 9"
   ]
  },
  {
   "cell_type": "code",
   "execution_count": 58,
   "id": "a2c5d90a",
   "metadata": {},
   "outputs": [
    {
     "data": {
      "text/plain": [
       "'Flanked by spaces on either side'"
      ]
     },
     "execution_count": 58,
     "metadata": {},
     "output_type": "execute_result"
    }
   ],
   "source": [
    "EX_9 = ' Flanked by spaces on either side '\n",
    "EX_9.strip()"
   ]
  },
  {
   "cell_type": "code",
   "execution_count": 59,
   "id": "9e542795",
   "metadata": {},
   "outputs": [],
   "source": [
    "#Exercise 10"
   ]
  },
  {
   "cell_type": "code",
   "execution_count": 60,
   "id": "4e297bb1",
   "metadata": {},
   "outputs": [
    {
     "name": "stdout",
     "output_type": "stream",
     "text": [
      "1681729884592 1681729884592 1681729884592\n"
     ]
    }
   ],
   "source": [
    "s1 = s2 = s3 = \"Hello\"\n",
    "print(id(s1), id(s2), id(s3))"
   ]
  },
  {
   "cell_type": "code",
   "execution_count": 61,
   "id": "ca54ca60",
   "metadata": {},
   "outputs": [],
   "source": [
    "#Exercise 11"
   ]
  },
  {
   "cell_type": "code",
   "execution_count": 67,
   "id": "7b944147",
   "metadata": {},
   "outputs": [
    {
     "data": {
      "text/plain": [
       "'A'"
      ]
     },
     "execution_count": 67,
     "metadata": {},
     "output_type": "execute_result"
    }
   ],
   "source": [
    "msg = 'Ae rop lane'\n",
    "ch = msg[-0]\n",
    "ch"
   ]
  },
  {
   "cell_type": "code",
   "execution_count": null,
   "id": "d850ab30",
   "metadata": {},
   "outputs": [],
   "source": []
  }
 ],
 "metadata": {
  "kernelspec": {
   "display_name": "Python 3 (ipykernel)",
   "language": "python",
   "name": "python3"
  },
  "language_info": {
   "codemirror_mode": {
    "name": "ipython",
    "version": 3
   },
   "file_extension": ".py",
   "mimetype": "text/x-python",
   "name": "python",
   "nbconvert_exporter": "python",
   "pygments_lexer": "ipython3",
   "version": "3.10.0"
  }
 },
 "nbformat": 4,
 "nbformat_minor": 5
}
