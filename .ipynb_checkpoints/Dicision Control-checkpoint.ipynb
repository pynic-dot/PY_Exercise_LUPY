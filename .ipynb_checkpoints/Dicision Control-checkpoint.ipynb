{
 "cells": [
  {
   "cell_type": "code",
   "execution_count": 3,
   "id": "2d0b4790",
   "metadata": {},
   "outputs": [],
   "source": [
    "#Check if input int is odd or even number"
   ]
  },
  {
   "cell_type": "code",
   "execution_count": 11,
   "id": "7f044f27",
   "metadata": {},
   "outputs": [
    {
     "name": "stdout",
     "output_type": "stream",
     "text": [
      "Enter any integer: 9\n"
     ]
    }
   ],
   "source": [
    "int_num = int(input(\"Enter any integer: \"))"
   ]
  },
  {
   "cell_type": "code",
   "execution_count": 12,
   "id": "952255e1",
   "metadata": {},
   "outputs": [
    {
     "name": "stdout",
     "output_type": "stream",
     "text": [
      "odd\n"
     ]
    }
   ],
   "source": [
    "print(\"even\") if int_num%2==0 else print(\"odd\")"
   ]
  },
  {
   "cell_type": "code",
   "execution_count": 13,
   "id": "e04e43f3",
   "metadata": {},
   "outputs": [
    {
     "data": {
      "text/plain": [
       "'\\n1:- If the year is evenly divisible by 4, go to step 2. Otherwise, go to step 5.\\n2:- If the year is evenly divisible by 100, go to step 3. Otherwise, go to step 4.\\n3:- If the year is evenly divisible by 400, go to step 4. Otherwise, go to step 5.\\n4:- The year is a leap year (it has 366 days).\\n5:- The year is not a leap year (it has 365 days).'"
      ]
     },
     "execution_count": 13,
     "metadata": {},
     "output_type": "execute_result"
    }
   ],
   "source": [
    "#Check Leap year\n",
    "'''\n",
    "1:- If the year is evenly divisible by 4, go to step 2. Otherwise, go to step 5.\n",
    "2:- If the year is evenly divisible by 100, go to step 3. Otherwise, go to step 4.\n",
    "3:- If the year is evenly divisible by 400, go to step 4. Otherwise, go to step 5.\n",
    "4:- The year is a leap year (it has 366 days).\n",
    "5:- The year is not a leap year (it has 365 days).'''"
   ]
  },
  {
   "cell_type": "code",
   "execution_count": 30,
   "id": "be5404ba",
   "metadata": {},
   "outputs": [
    {
     "name": "stdout",
     "output_type": "stream",
     "text": [
      "Enter any year: 2400\n"
     ]
    }
   ],
   "source": [
    "year = int(input(\"Enter any year: \"))"
   ]
  },
  {
   "cell_type": "code",
   "execution_count": 31,
   "id": "713bd916",
   "metadata": {},
   "outputs": [
    {
     "name": "stdout",
     "output_type": "stream",
     "text": [
      "It is a leap year, it has 366 days!\n"
     ]
    }
   ],
   "source": [
    "if year%4==0:\n",
    "    if year%100==0:\n",
    "        if year%400==0:\n",
    "            print(\"It is a leap year, it has 366 days!\")\n",
    "        else: \n",
    "            print(\"Not a leap year! it has 365 days\")\n",
    "    elif year%400==0:\n",
    "            print(\"It is a leap year, it has 366 days!\")\n",
    "    else:\n",
    "        print(\"Not a leap year! it has 365 days\")\n",
    "\n",
    "else:\n",
    "    print(\"Not a leap year! it has 365 days\")"
   ]
  },
  {
   "cell_type": "code",
   "execution_count": 32,
   "id": "55421008",
   "metadata": {},
   "outputs": [],
   "source": [
    "# If ages of Ram, Shyam and Ajay are input through the keyboard, write a program to determine the youngest of the three.\n"
   ]
  },
  {
   "cell_type": "code",
   "execution_count": 45,
   "id": "cf65c36b",
   "metadata": {},
   "outputs": [
    {
     "name": "stdout",
     "output_type": "stream",
     "text": [
      "Enter the age of Ram, Shyam, and Ajay repectively: 20 20 20\n"
     ]
    }
   ],
   "source": [
    "ram_a, shyam_a, Ajay_a = input(\"Enter the age of Ram, Shyam, and Ajay repectively: \").split(\" \")"
   ]
  },
  {
   "cell_type": "code",
   "execution_count": 46,
   "id": "7d78202f",
   "metadata": {},
   "outputs": [],
   "source": [
    "if int(ram_a) > int(shyam_a) and int(ram_a)>int(Ajay_a):\n",
    "    print('Ram is the eldest one')\n",
    "\n",
    "elif int(shyam_a) > int(ram_a) and int(shyam_a)>int(Ajay_a):\\\n",
    "    print('Shyam is the eldest one')\n",
    "\n",
    "\n",
    "elif int(Ajay_a) > int(shyam_a) and int(Ajay_a)>int(ram_a):\n",
    "    print('Ajay is the eldest one')\n",
    "\n"
   ]
  },
  {
   "cell_type": "code",
   "execution_count": 47,
   "id": "6e5483e3",
   "metadata": {},
   "outputs": [],
   "source": [
    "#Valid Triangle id angles are entered through the keyboard"
   ]
  },
  {
   "cell_type": "code",
   "execution_count": 52,
   "id": "9c4e48bd",
   "metadata": {},
   "outputs": [
    {
     "name": "stdout",
     "output_type": "stream",
     "text": [
      "Enter the Angles of a triangle to check whether is it exist: 80 10 90\n"
     ]
    }
   ],
   "source": [
    "A, B, C = input(\"Enter the Angles of a triangle to check whether is it exist: \").split(\" \")"
   ]
  },
  {
   "cell_type": "code",
   "execution_count": 53,
   "id": "4e21000d",
   "metadata": {},
   "outputs": [
    {
     "name": "stdout",
     "output_type": "stream",
     "text": [
      "It's a triagle!\n"
     ]
    }
   ],
   "source": [
    "if  int(A)+int(B)+int(C) ==180:\n",
    "    print(\"It's a triagle!\")\n",
    "else: \n",
    "    print(\"Not a triangle!\")"
   ]
  },
  {
   "cell_type": "code",
   "execution_count": 54,
   "id": "61b6df41",
   "metadata": {},
   "outputs": [],
   "source": [
    "#Write a program to find the absolute value of a number entered through the keyboard."
   ]
  },
  {
   "cell_type": "code",
   "execution_count": 57,
   "id": "084c1dc9",
   "metadata": {},
   "outputs": [
    {
     "name": "stdout",
     "output_type": "stream",
     "text": [
      "Enter any Numaber to its absolute value: 0\n"
     ]
    }
   ],
   "source": [
    "num_1 = int(input(\"Enter any Numaber to its absolute value: \"))"
   ]
  },
  {
   "cell_type": "code",
   "execution_count": 58,
   "id": "f318e3bd",
   "metadata": {},
   "outputs": [
    {
     "name": "stdout",
     "output_type": "stream",
     "text": [
      "0\n"
     ]
    }
   ],
   "source": [
    "print(abs(num_1))"
   ]
  },
  {
   "cell_type": "code",
   "execution_count": 59,
   "id": "44d587b7",
   "metadata": {},
   "outputs": [],
   "source": [
    "#Given the length and breadth of a rectangle, write a program to find\n",
    "# whether the area of the rectangle is greater than its perimeter. For\n",
    "# example, the area of the rectangle with length = 5 and breadth = 4\n",
    "# is greater than its perimeter."
   ]
  },
  {
   "cell_type": "code",
   "execution_count": 60,
   "id": "67be155d",
   "metadata": {},
   "outputs": [
    {
     "name": "stdout",
     "output_type": "stream",
     "text": [
      "Enter the length and breadth of a rectagle respectively: 10 20\n"
     ]
    }
   ],
   "source": [
    "length_r, breadth_r = input(\"Enter the length and breadth of a rectagle respectively: \").split(\" \")"
   ]
  },
  {
   "cell_type": "code",
   "execution_count": 62,
   "id": "5586a396",
   "metadata": {},
   "outputs": [],
   "source": [
    "area_r = int(length_r)*int(breadth_r)"
   ]
  },
  {
   "cell_type": "code",
   "execution_count": 64,
   "id": "1f16ea16",
   "metadata": {},
   "outputs": [],
   "source": [
    "parameter_r = 2*(int(length_r)+int(breadth_r))"
   ]
  },
  {
   "cell_type": "code",
   "execution_count": 65,
   "id": "c3441454",
   "metadata": {},
   "outputs": [
    {
     "name": "stdout",
     "output_type": "stream",
     "text": [
      "Area is greater than parameter!\n"
     ]
    }
   ],
   "source": [
    "if area_r > parameter_r:\n",
    "    print(\"Area is greater than parameter!\")\n",
    "else:\n",
    "    print(\"Area is not greater that parameter!\")"
   ]
  },
  {
   "cell_type": "code",
   "execution_count": 66,
   "id": "5c32c172",
   "metadata": {},
   "outputs": [],
   "source": [
    "#Given three points (x1, y1), (x2, y2) and (x3, y3), write a program to\n",
    "# check if all the three pointsfall on one straight line."
   ]
  },
  {
   "cell_type": "code",
   "execution_count": 67,
   "id": "8f923689",
   "metadata": {},
   "outputs": [],
   "source": [
    "x1,y1, x2,y2, x3,y3 = 2,3,4,5,6,9"
   ]
  },
  {
   "cell_type": "code",
   "execution_count": 68,
   "id": "eea86d53",
   "metadata": {},
   "outputs": [],
   "source": [
    "value_at_one_line =[x1 * (y2 - y3) + x2 * (y3 - y1) + x3 * (y1 - y2)]"
   ]
  },
  {
   "cell_type": "code",
   "execution_count": 69,
   "id": "5459380d",
   "metadata": {},
   "outputs": [
    {
     "name": "stdout",
     "output_type": "stream",
     "text": [
      "Not collinear!\n"
     ]
    }
   ],
   "source": [
    "if value_at_one_line == 0:\n",
    "    print(\"These points are collinear!\")\n",
    "    \n",
    "else:\n",
    "    print(\"Not collinear!\")"
   ]
  },
  {
   "cell_type": "code",
   "execution_count": 70,
   "id": "2235e831",
   "metadata": {},
   "outputs": [],
   "source": [
    "#Given the coordinates (x, y) of center of a circle and its radius, write\n",
    "# a program that will determine whether a point lies inside the circle,\n",
    "# on the circle or outside the circle. (Hint: Use sqrt( ) and pow( )\n",
    "# functions)"
   ]
  },
  {
   "cell_type": "code",
   "execution_count": 93,
   "id": "866a04ec",
   "metadata": {},
   "outputs": [],
   "source": [
    "import math\n",
    "x,y, r = 2,3, 6"
   ]
  },
  {
   "cell_type": "code",
   "execution_count": 94,
   "id": "a29d13a1",
   "metadata": {},
   "outputs": [],
   "source": [
    "x1,y2 = 2, 9"
   ]
  },
  {
   "cell_type": "code",
   "execution_count": 95,
   "id": "518266c7",
   "metadata": {},
   "outputs": [],
   "source": [
    "dist = math.sqrt(pow((x1-x),2) +pow((y1-y),2))"
   ]
  },
  {
   "cell_type": "code",
   "execution_count": 96,
   "id": "a8063752",
   "metadata": {},
   "outputs": [
    {
     "name": "stdout",
     "output_type": "stream",
     "text": [
      "inside the circle\n"
     ]
    }
   ],
   "source": [
    "if dist >r:\n",
    "    print(\"Outside of circle\")\n",
    "elif dist<r:\n",
    "    print(\"inside the circle\")\n",
    "else:\n",
    "    print(\"on the circle\")"
   ]
  },
  {
   "cell_type": "code",
   "execution_count": 97,
   "id": "ff87836f",
   "metadata": {},
   "outputs": [],
   "source": [
    "#Given a point (x, y), write a program to find out if it lies on the X axis, Y-axis or on the origin"
   ]
  },
  {
   "cell_type": "code",
   "execution_count": 100,
   "id": "e59b55ea",
   "metadata": {},
   "outputs": [],
   "source": [
    "x ,y = 4, 0"
   ]
  },
  {
   "cell_type": "code",
   "execution_count": 101,
   "id": "420bc8b6",
   "metadata": {},
   "outputs": [
    {
     "name": "stdout",
     "output_type": "stream",
     "text": [
      "On x-axis\n"
     ]
    }
   ],
   "source": [
    "if (x > 0 or x < 0)  and y == 0:\n",
    "    print('On x-axis')\n",
    "    \n",
    "elif (y > 0 or y < 0) and x == 0:\n",
    "    print('On y-axis')\n",
    "    \n",
    "elif x == 0 and y ==0:\n",
    "    print('on the center')\n",
    "else:\n",
    "    print('Not laying on axis')"
   ]
  },
  {
   "cell_type": "code",
   "execution_count": 102,
   "id": "09753b80",
   "metadata": {},
   "outputs": [],
   "source": [
    "#If the three sides of a triangle are entered through the keyboard,\n",
    "# write a program to check whether the triangle is valid or not. The\n",
    "# triangle is valid if the sum of two sides is greater than the largest of\n",
    "# the three sides."
   ]
  },
  {
   "cell_type": "code",
   "execution_count": 11,
   "id": "a133d21e",
   "metadata": {},
   "outputs": [],
   "source": [
    "sides = [10, 10, 20]"
   ]
  },
  {
   "cell_type": "code",
   "execution_count": 12,
   "id": "0a3cf3d1",
   "metadata": {},
   "outputs": [],
   "source": [
    "max_val = max(sides)"
   ]
  },
  {
   "cell_type": "code",
   "execution_count": 13,
   "id": "173f479f",
   "metadata": {},
   "outputs": [],
   "source": [
    "max_val_index = sides.index(max_val)"
   ]
  },
  {
   "cell_type": "code",
   "execution_count": 14,
   "id": "e61c37de",
   "metadata": {},
   "outputs": [
    {
     "name": "stdout",
     "output_type": "stream",
     "text": [
      "triangle does exist\n"
     ]
    }
   ],
   "source": [
    "for x in range(len(sides)):\n",
    "    if sides[x] == sides[max_val_index]:\n",
    "        sides.pop(max_val_index)\n",
    "        if sides[0]+sides[1] >= max_val:\n",
    "            print(\"triangle does exist\")\n",
    "            break\n",
    "        else:\n",
    "            print(\"triangle doesn't exit\")\n",
    "            break\n",
    "          "
   ]
  },
  {
   "cell_type": "code",
   "execution_count": 15,
   "id": "bab51306",
   "metadata": {},
   "outputs": [],
   "source": [
    "#If the three sides of a triangle are entered through the keyboard,\n",
    "# write a program to check whether the triangle is isosceles,\n",
    "# equilateral,scalene or right angled triangle.\n"
   ]
  },
  {
   "cell_type": "code",
   "execution_count": null,
   "id": "8a8d7e3f",
   "metadata": {},
   "outputs": [],
   "source": []
  }
 ],
 "metadata": {
  "kernelspec": {
   "display_name": "Python 3 (ipykernel)",
   "language": "python",
   "name": "python3"
  },
  "language_info": {
   "codemirror_mode": {
    "name": "ipython",
    "version": 3
   },
   "file_extension": ".py",
   "mimetype": "text/x-python",
   "name": "python",
   "nbconvert_exporter": "python",
   "pygments_lexer": "ipython3",
   "version": "3.10.0"
  }
 },
 "nbformat": 4,
 "nbformat_minor": 5
}
