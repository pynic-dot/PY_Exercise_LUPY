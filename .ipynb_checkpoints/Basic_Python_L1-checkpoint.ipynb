{
 "cells": [
  {
   "cell_type": "code",
   "execution_count": 1,
   "id": "67939252",
   "metadata": {},
   "outputs": [],
   "source": [
    "#Exercise 1"
   ]
  },
  {
   "cell_type": "code",
   "execution_count": 2,
   "id": "5781f119",
   "metadata": {},
   "outputs": [
    {
     "name": "stdout",
     "output_type": "stream",
     "text": [
      "Value of A is 3\n",
      "Value of b is 2\n"
     ]
    }
   ],
   "source": [
    "#swapping the variables value without third variables\n",
    "a = 2\n",
    "b = 3\n",
    "a,b = b,a\n",
    "print(f\"Value of A is {a}\")\n",
    "print(f\"Value of b is {b}\")"
   ]
  },
  {
   "cell_type": "code",
   "execution_count": 3,
   "id": "a3022f2c",
   "metadata": {},
   "outputs": [],
   "source": [
    "#Exercise 2\n",
    "# Program that makes use of trigonometric fucntions available in mat modules"
   ]
  },
  {
   "cell_type": "code",
   "execution_count": 4,
   "id": "1ae520cb",
   "metadata": {},
   "outputs": [
    {
     "data": {
      "text/plain": [
       "1.0"
      ]
     },
     "execution_count": 4,
     "metadata": {},
     "output_type": "execute_result"
    }
   ],
   "source": [
    "import math\n",
    "math.cos(math.degrees(0))"
   ]
  },
  {
   "cell_type": "code",
   "execution_count": 5,
   "id": "04e11602",
   "metadata": {},
   "outputs": [],
   "source": [
    "#Exercise 3 generating random number 10 to 50"
   ]
  },
  {
   "cell_type": "code",
   "execution_count": 6,
   "id": "db111d3a",
   "metadata": {},
   "outputs": [],
   "source": [
    "import random\n",
    "a =random.seed(random.randint(1,100))\n",
    "random_50 = random.sample(range(10,50),5)"
   ]
  },
  {
   "cell_type": "code",
   "execution_count": 7,
   "id": "1f1a888f",
   "metadata": {},
   "outputs": [
    {
     "data": {
      "text/plain": [
       "[17, 18, 44, 48, 21]"
      ]
     },
     "execution_count": 7,
     "metadata": {},
     "output_type": "execute_result"
    }
   ],
   "source": [
    "random_50"
   ]
  },
  {
   "cell_type": "code",
   "execution_count": 8,
   "id": "096f02fa",
   "metadata": {},
   "outputs": [],
   "source": [
    "#Exercise 4 Use of trunc and floor and ceil"
   ]
  },
  {
   "cell_type": "code",
   "execution_count": 9,
   "id": "c8d5a38f",
   "metadata": {},
   "outputs": [
    {
     "name": "stdout",
     "output_type": "stream",
     "text": [
      "-2 -3 -2\n"
     ]
    }
   ],
   "source": [
    "print(math.trunc(-2.3),\n",
    "math.floor(-2.3),\n",
    "math.ceil(-2.3))"
   ]
  },
  {
   "cell_type": "code",
   "execution_count": 10,
   "id": "d79d181b",
   "metadata": {},
   "outputs": [
    {
     "name": "stdout",
     "output_type": "stream",
     "text": [
      "-1 0 -1\n"
     ]
    }
   ],
   "source": [
    "print(math.floor(-0.5),\n",
    "math.ceil(-0.5),\n",
    "math.floor(-0.5))"
   ]
  },
  {
   "cell_type": "code",
   "execution_count": 11,
   "id": "69c667e3",
   "metadata": {},
   "outputs": [
    {
     "name": "stdout",
     "output_type": "stream",
     "text": [
      "0 0 1\n"
     ]
    }
   ],
   "source": [
    "print(math.trunc(0.2),\n",
    "math.floor(0.2),\n",
    "math.ceil(0.2))"
   ]
  },
  {
   "cell_type": "code",
   "execution_count": 12,
   "id": "d06b5241",
   "metadata": {},
   "outputs": [],
   "source": [
    "#Exercise 5 City Tempreture in centigrade"
   ]
  },
  {
   "cell_type": "code",
   "execution_count": 15,
   "id": "813739b9",
   "metadata": {},
   "outputs": [
    {
     "name": "stdout",
     "output_type": "stream",
     "text": [
      "36.666666666666664 98\n"
     ]
    }
   ],
   "source": [
    "temp_in_f = 98\n",
    "print(5*(temp_in_f-32)/9,temp_in_f)"
   ]
  },
  {
   "cell_type": "code",
   "execution_count": 16,
   "id": "e1fcd2fb",
   "metadata": {},
   "outputs": [
    {
     "data": {
      "text/plain": [
       "'Given three sides a, b, c of a triangle, write a program to obtain and\\nprint the values of three angles rounded to the next integer. Use\\nthe formulae:\\na\\n2 = b\\n2 + c\\n2\\n- 2bc cos A, b\\n2 = a\\n2 + c\\n2\\n- 2ac cos B, c\\n2 = a\\n2 + b\\n2\\n- 2ab cos C\\n'"
      ]
     },
     "execution_count": 16,
     "metadata": {},
     "output_type": "execute_result"
    }
   ],
   "source": [
    "#Exercise 6\n",
    "'''Given three sides a, b, c of a triangle, write a program to obtain and\n",
    "print the values of three angles rounded to the next integer. Use\n",
    "the formulae:\n",
    "a\n",
    "2 = b\n",
    "2 + c\n",
    "2\n",
    "- 2bc cos A, b\n",
    "2 = a\n",
    "2 + c\n",
    "2\n",
    "- 2ac cos B, c\n",
    "2 = a\n",
    "2 + b\n",
    "2\n",
    "- 2ab cos C\n",
    "'''"
   ]
  },
  {
   "cell_type": "code",
   "execution_count": 58,
   "id": "1b5c2d8d",
   "metadata": {},
   "outputs": [],
   "source": [
    "a,b,c = 0.1, 0.3, 0.02\n",
    "Value_cosA = (b**2+c**2-a**2)/2*b*c\n",
    "Value_cosB = (c**2+a**2-b**2)/2*a*c\n",
    "Value_cosC = (a**2+b**2-c**2)/2*a*b\n",
    "\n",
    "\n"
   ]
  },
  {
   "cell_type": "code",
   "execution_count": 59,
   "id": "fd713733",
   "metadata": {},
   "outputs": [],
   "source": [
    "A = math.acos(Value_cosA)\n",
    "B = math.acos(Value_cosB)\n",
    "C = math.acos(Value_cosC)\n"
   ]
  },
  {
   "cell_type": "code",
   "execution_count": 60,
   "id": "a7426464",
   "metadata": {},
   "outputs": [
    {
     "name": "stdout",
     "output_type": "stream",
     "text": [
      "Angle A is 2\n",
      "Angle B is 2\n",
      "Angle C is 2\n"
     ]
    }
   ],
   "source": [
    "print(f'Angle A is {math.ceil(A)}')\n",
    "print(f'Angle B is {math.ceil(B)}')\n",
    "print(f'Angle C is {math.ceil(C)}')"
   ]
  },
  {
   "cell_type": "code",
   "execution_count": null,
   "id": "c745d97e",
   "metadata": {},
   "outputs": [],
   "source": []
  }
 ],
 "metadata": {
  "kernelspec": {
   "display_name": "Python 3 (ipykernel)",
   "language": "python",
   "name": "python3"
  },
  "language_info": {
   "codemirror_mode": {
    "name": "ipython",
    "version": 3
   },
   "file_extension": ".py",
   "mimetype": "text/x-python",
   "name": "python",
   "nbconvert_exporter": "python",
   "pygments_lexer": "ipython3",
   "version": "3.10.0"
  }
 },
 "nbformat": 4,
 "nbformat_minor": 5
}
